{
  "nbformat": 4,
  "nbformat_minor": 0,
  "metadata": {
    "colab": {
      "provenance": []
    },
    "kernelspec": {
      "name": "python3",
      "display_name": "Python 3"
    },
    "language_info": {
      "name": "python"
    }
  },
  "cells": [
    {
      "cell_type": "markdown",
      "source": [
        "**LLM - A Language Translator**\n",
        "\n",
        "Large language Models (LLMs) have demonstrated a potential in handling multilingual machine translation (MMT). In this simple code, we will demonstrate its capability of languages translation.\n",
        "We will use Mistral API.\n",
        "\n",
        "The following two examples will be shown:\n",
        "\n",
        "*   English to French, with explanation.\n",
        "*   Uyghur to English, without explanation.\n",
        "\n"
      ],
      "metadata": {
        "id": "EhhO9URkFurV"
      }
    },
    {
      "cell_type": "code",
      "execution_count": null,
      "metadata": {
        "colab": {
          "base_uri": "https://localhost:8080/"
        },
        "id": "A7LHoLeu8bLn",
        "outputId": "8121ec25-0535-4141-848f-94edd49ebba8",
        "collapsed": true
      },
      "outputs": [
        {
          "output_type": "stream",
          "name": "stdout",
          "text": [
            "Requirement already satisfied: mistralai in /usr/local/lib/python3.10/dist-packages (1.2.5)\n",
            "Requirement already satisfied: eval-type-backport<0.3.0,>=0.2.0 in /usr/local/lib/python3.10/dist-packages (from mistralai) (0.2.0)\n",
            "Requirement already satisfied: httpx<0.28.0,>=0.27.0 in /usr/local/lib/python3.10/dist-packages (from mistralai) (0.27.2)\n",
            "Requirement already satisfied: jsonpath-python<2.0.0,>=1.0.6 in /usr/local/lib/python3.10/dist-packages (from mistralai) (1.0.6)\n",
            "Requirement already satisfied: pydantic<3.0.0,>=2.9.0 in /usr/local/lib/python3.10/dist-packages (from mistralai) (2.10.3)\n",
            "Requirement already satisfied: python-dateutil<3.0.0,>=2.8.2 in /usr/local/lib/python3.10/dist-packages (from mistralai) (2.8.2)\n",
            "Requirement already satisfied: typing-inspect<0.10.0,>=0.9.0 in /usr/local/lib/python3.10/dist-packages (from mistralai) (0.9.0)\n",
            "Requirement already satisfied: anyio in /usr/local/lib/python3.10/dist-packages (from httpx<0.28.0,>=0.27.0->mistralai) (3.7.1)\n",
            "Requirement already satisfied: certifi in /usr/local/lib/python3.10/dist-packages (from httpx<0.28.0,>=0.27.0->mistralai) (2024.12.14)\n",
            "Requirement already satisfied: httpcore==1.* in /usr/local/lib/python3.10/dist-packages (from httpx<0.28.0,>=0.27.0->mistralai) (1.0.7)\n",
            "Requirement already satisfied: idna in /usr/local/lib/python3.10/dist-packages (from httpx<0.28.0,>=0.27.0->mistralai) (3.10)\n",
            "Requirement already satisfied: sniffio in /usr/local/lib/python3.10/dist-packages (from httpx<0.28.0,>=0.27.0->mistralai) (1.3.1)\n",
            "Requirement already satisfied: h11<0.15,>=0.13 in /usr/local/lib/python3.10/dist-packages (from httpcore==1.*->httpx<0.28.0,>=0.27.0->mistralai) (0.14.0)\n",
            "Requirement already satisfied: annotated-types>=0.6.0 in /usr/local/lib/python3.10/dist-packages (from pydantic<3.0.0,>=2.9.0->mistralai) (0.7.0)\n",
            "Requirement already satisfied: pydantic-core==2.27.1 in /usr/local/lib/python3.10/dist-packages (from pydantic<3.0.0,>=2.9.0->mistralai) (2.27.1)\n",
            "Requirement already satisfied: typing-extensions>=4.12.2 in /usr/local/lib/python3.10/dist-packages (from pydantic<3.0.0,>=2.9.0->mistralai) (4.12.2)\n",
            "Requirement already satisfied: six>=1.5 in /usr/local/lib/python3.10/dist-packages (from python-dateutil<3.0.0,>=2.8.2->mistralai) (1.17.0)\n",
            "Requirement already satisfied: mypy-extensions>=0.3.0 in /usr/local/lib/python3.10/dist-packages (from typing-inspect<0.10.0,>=0.9.0->mistralai) (1.0.0)\n",
            "Requirement already satisfied: exceptiongroup in /usr/local/lib/python3.10/dist-packages (from anyio->httpx<0.28.0,>=0.27.0->mistralai) (1.2.2)\n"
          ]
        }
      ],
      "source": [
        "#Install mistralai API client\n",
        "! pip install mistralai"
      ]
    },
    {
      "cell_type": "code",
      "source": [
        "#Retrive mistral API key stored in Google Colab Secrets\n",
        "from google.colab import userdata\n",
        "#my mistral.ai API key is named CSCI250 and stored in Google Colab secrets\n",
        "api_key=userdata.get('mistral-api-key')"
      ],
      "metadata": {
        "id": "OhtUeLFR8h42"
      },
      "execution_count": null,
      "outputs": []
    },
    {
      "cell_type": "code",
      "source": [
        "#Create mistral client\n",
        "from mistralai import Mistral\n",
        "model = \"mistral-large-latest\"\n",
        "client = Mistral(api_key=api_key)\n"
      ],
      "metadata": {
        "id": "sJXRNQo78yU9"
      },
      "execution_count": null,
      "outputs": []
    },
    {
      "cell_type": "code",
      "source": [
        "#English => French translation\n",
        "english_text = \"Hello, how are you today?\"\n",
        "\n",
        "chat_response = client.chat.complete(\n",
        "    model=model,\n",
        "    messages=[\n",
        "        {\"role\":\"system\", \"content\":\"You are a helpful assisstant.\"},\n",
        "        {\"role\":\"user\", \"content\":f'''Translate the following English text to French: \"{english_text}\"'''}\n",
        "    ],\n",
        ")\n",
        "\n",
        "print(chat_response.choices[0].message.content)"
      ],
      "metadata": {
        "colab": {
          "base_uri": "https://localhost:8080/"
        },
        "id": "xqdGuZa6I1Fx",
        "outputId": "346aa068-2fe6-4594-d592-b99d9bb454d3"
      },
      "execution_count": null,
      "outputs": [
        {
          "output_type": "stream",
          "name": "stdout",
          "text": [
            "Sure, here is the translation of \"Hello, how are you today?\" to French:\n",
            "\n",
            "\"Bonjour, comment allez-vous aujourd'hui?\"\n",
            "\n",
            "If you're looking for a more casual version, you could use:\n",
            "\n",
            "\"Salut, comment ça va aujourd'hui?\"\n"
          ]
        }
      ]
    },
    {
      "cell_type": "code",
      "source": [
        "#Uyghur => English translation\n",
        "uyghur_text = \"ۋەتىنىگە مېھرى يوق ئوغلان بولالماس، دۈشمىنىگە قەھرى يوق پالۋان بولالماس.\"\n",
        "\n",
        "chat_response = client.chat.complete(\n",
        "    model=model,\n",
        "    messages=[\n",
        "        {\"role\":\"system\", \"content\":\"You are a helpful assisstant.\"},\n",
        "        {\"role\":\"user\", \"content\":f'''Translate the following Uyghur text to English, just a result only and no explanation: \"{uyghur_text}\"'''}\n",
        "    ],\n",
        ")\n",
        "\n",
        "print(chat_response.choices[0].message.content)"
      ],
      "metadata": {
        "colab": {
          "base_uri": "https://localhost:8080/"
        },
        "id": "xtzQUx-D_ryI",
        "outputId": "917454df-b993-4e0a-d121-b837382f2b00"
      },
      "execution_count": null,
      "outputs": [
        {
          "output_type": "stream",
          "name": "stdout",
          "text": [
            "A son without love for his country is useless, a hero without anger towards his enemy is useless.\n"
          ]
        }
      ]
    }
  ]
}